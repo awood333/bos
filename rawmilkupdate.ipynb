{
 "cells": [
  {
   "cell_type": "code",
   "execution_count": 20,
   "id": "62d969c2",
   "metadata": {},
   "outputs": [],
   "source": [
    "import pandas as pd  \n",
    "import numpy as np\n",
    "import datetime\n",
    "from datetime import timedelta, datetime\n",
    "#\n",
    "dmAM_liters=pd.read_excel ('F:\\\\COWS\\\\data\\\\daily_milk.xlsm',     sheet_name='AM_liters', skiprows=2,index_col=0,header=0)\n",
    "dmAM_wy=pd.read_excel     ('F:\\\\COWS\\\\data\\\\daily_milk.xlsm',     sheet_name='AM_wy',     skiprows=2,index_col=0,header=0)\n",
    "dmPM_liters=pd.read_excel ('F:\\\\COWS\\\\data\\\\daily_milk.xlsm',     sheet_name='PM_liters', skiprows=2,index_col=0,header=0)\n",
    "dmPM_wy=pd.read_excel     ('F:\\\\COWS\\\\data\\\\daily_milk.xlsm',     sheet_name='PM_wy',     skiprows=2,index_col=0,header=0)\n",
    "#\n",
    "AM_liters=pd.read_csv   ('F:\\\\COWS\\\\data\\\\milk_data\\\\raw\\\\csv\\\\AM_liters.csv',          index_col=0,header=0)\n",
    "AM_wy=pd.read_csv       ('F:\\\\COWS\\\\data\\\\milk_data\\\\raw\\\\csv\\\\AM_wy.csv',              index_col=0,header=0)\n",
    "PM_liters=pd.read_csv   ('F:\\\\COWS\\\\data\\\\milk_data\\\\raw\\\\csv\\\\PM_liters.csv',          index_col=0,header=0)\n",
    "PM_wy=pd.read_csv       ('F:\\\\COWS\\\\data\\\\milk_data\\\\raw\\\\csv\\\\PM_wy.csv',              index_col=0,header=0)\n",
    "# \n",
    "now = datetime.now()\n",
    "tdy =now.strftime(\"%Y_%m_%d %H_%M_%S\")      #for the csv file names"
   ]
  },
  {
   "cell_type": "code",
   "execution_count": 28,
   "id": "0634289d",
   "metadata": {},
   "outputs": [
    {
     "data": {
      "text/html": [
       "<div>\n",
       "<style scoped>\n",
       "    .dataframe tbody tr th:only-of-type {\n",
       "        vertical-align: middle;\n",
       "    }\n",
       "\n",
       "    .dataframe tbody tr th {\n",
       "        vertical-align: top;\n",
       "    }\n",
       "\n",
       "    .dataframe thead th {\n",
       "        text-align: right;\n",
       "    }\n",
       "</style>\n",
       "<table border=\"1\" class=\"dataframe\">\n",
       "  <thead>\n",
       "    <tr style=\"text-align: right;\">\n",
       "      <th></th>\n",
       "      <th>7/2/2023</th>\n",
       "      <th>7/3/2023</th>\n",
       "      <th>7/4/2023</th>\n",
       "      <th>7/5/2023</th>\n",
       "      <th>7/6/2023</th>\n",
       "    </tr>\n",
       "  </thead>\n",
       "  <tbody>\n",
       "    <tr>\n",
       "      <th>1</th>\n",
       "      <td>9.4</td>\n",
       "      <td>8.0</td>\n",
       "      <td>4.0</td>\n",
       "      <td>8.0</td>\n",
       "      <td>8.0</td>\n",
       "    </tr>\n",
       "    <tr>\n",
       "      <th>2</th>\n",
       "      <td>3.0</td>\n",
       "      <td>6.0</td>\n",
       "      <td>4.0</td>\n",
       "      <td>7.6</td>\n",
       "      <td>9.0</td>\n",
       "    </tr>\n",
       "  </tbody>\n",
       "</table>\n",
       "</div>"
      ],
      "text/plain": [
       "   7/2/2023  7/3/2023  7/4/2023  7/5/2023  7/6/2023\n",
       "1       9.4       8.0       4.0       8.0       8.0\n",
       "2       3.0       6.0       4.0       7.6       9.0"
      ]
     },
     "execution_count": 28,
     "metadata": {},
     "output_type": "execute_result"
    }
   ],
   "source": [
    "AM_liters.iloc[:2,-5:]"
   ]
  },
  {
   "cell_type": "code",
   "execution_count": 23,
   "id": "07131a75",
   "metadata": {},
   "outputs": [],
   "source": [
    "# AM LITERS\n",
    "dat1=AM_liters.columns[-1]                          #the date is a string eg '7/3/2023'\n",
    "dat=datetime.strptime(dat1,'%m/%d/%Y').date()      #%H:%M:%S\n",
    "# dat = dat2 + timedelta(days=1)\n",
    "newdata=dmAM_liters.loc[:,dat:].copy()\n",
    "newdata.columns = newdata.columns.strftime('%m/%d/%Y')\n",
    "#\n",
    "amliters=pd.concat([AM_liters,newdata],axis=1,join='inner')\n",
    "amliters.replace(0,np.nan,inplace=True)\n",
    "amliters.dropna(axis='columns', how='all', inplace=True)\n",
    "#\n",
    "amliters.to_csv(f\"D:\\\\Cows\\\\data backup\\\\milk backup\\\\rawmilk\\\\AM_liters\\\\AM_liters_{tdy}.csv\")\n",
    "amliters.to_csv(f\"E:\\\\Cows\\\\data backup\\\\milk backup\\\\rawmilk\\\\AM_liters\\\\AM_liters_{tdy}.csv\")\n",
    "# amliters.to_csv('F:\\\\COWS\\\\data\\\\milk_data\\\\raw\\\\csv\\\\AM_liters.csv',mode='w',index=True, header=True)\n",
    "# NOTE this to_csv command does not overwrite the last column of the df - so, if the wrong data has gotten written in, you gotta go erase that col "
   ]
  },
  {
   "cell_type": "code",
   "execution_count": 26,
   "id": "133ec6aa",
   "metadata": {},
   "outputs": [
    {
     "data": {
      "text/plain": [
       "Index(['8/10/2018', '8/11/2018', '8/12/2018', '8/13/2018', '8/14/2018',\n",
       "       '8/15/2018', '8/16/2018', '8/17/2018', '8/18/2018', '8/19/2018',\n",
       "       ...\n",
       "       '6/28/2023', '6/29/2023', '6/30/2023', '7/1/2023', '7/2/2023',\n",
       "       '7/3/2023', '7/4/2023', '7/5/2023', '7/6/2023', '07/06/2023'],\n",
       "      dtype='object', length=1793)"
      ]
     },
     "execution_count": 26,
     "metadata": {},
     "output_type": "execute_result"
    }
   ],
   "source": [
    "amliters.columns"
   ]
  },
  {
   "cell_type": "code",
   "execution_count": 11,
   "id": "d323641b",
   "metadata": {},
   "outputs": [],
   "source": [
    "# AM WY\n",
    "newdata=dmAM_wy.loc[:,dat:].copy()\n",
    "newdata.columns = newdata.columns.strftime('%m/%d/%Y')\n",
    "#\n",
    "amwy=pd.concat([AM_wy,newdata],axis=1,join='inner')\n",
    "amwy.replace(0,np.nan,inplace=True)\n",
    "amwy.dropna(axis='columns', how='all', inplace=True)\n",
    "#\n",
    "amwy.to_csv(f\"D:\\\\Cows\\\\data backup\\\\milk backup\\\\rawmilk\\\\AM_wy\\\\AM_wy_{tdy}.csv\")\n",
    "amwy.to_csv(f\"E:\\\\Cows\\\\data backup\\\\milk backup\\\\rawmilk\\\\AM_wy\\\\AM_wy_{tdy}.csv\")\n",
    "# amwy.to_csv('F:\\\\COWS\\\\data\\\\milk_data\\\\raw\\\\csv\\\\AM_wy.csv',mode='w',index=True, header=True)\n",
    "#"
   ]
  },
  {
   "cell_type": "code",
   "execution_count": 12,
   "id": "8f01fb25",
   "metadata": {},
   "outputs": [],
   "source": [
    "# PM LITERS\n",
    "newdata=dmPM_liters.loc[:,dat:].copy()\n",
    "newdata.columns = newdata.columns.strftime('%m/%d/%Y')\n",
    "#\n",
    "pmliters=pd.concat([PM_liters,newdata],axis=1,join='inner')\n",
    "pmliters.replace(0,np.nan,inplace=True)\n",
    "pmliters.dropna(axis='columns', how='all', inplace=True)\n",
    "#\n",
    "pmliters.to_csv(f\"D:\\\\Cows\\\\data backup\\\\milk backup\\\\rawmilk\\\\PM_liters\\\\PM_liters_{tdy}.csv\")\n",
    "pmliters.to_csv(f\"E:\\\\Cows\\\\data backup\\\\milk backup\\\\rawmilk\\\\PM_liters\\\\PM_liters_{tdy}.csv\")\n",
    "# pmliters.to_csv('F:\\\\COWS\\\\data\\\\milk_data\\\\raw\\\\csv\\\\PM_liters.csv',mode='w',index=True, header=True)"
   ]
  },
  {
   "cell_type": "code",
   "execution_count": 13,
   "id": "cb2ef590",
   "metadata": {
    "lines_to_next_cell": 2
   },
   "outputs": [],
   "source": [
    "# PM WY\n",
    "newdata=dmPM_wy.loc[:,dat:].copy()\n",
    "newdata.columns = newdata.columns.strftime('%m/%d/%Y')\n",
    "#\n",
    "pmwy=pd.concat([PM_wy,newdata],axis=1,join='inner')\n",
    "pmwy.replace(0,np.nan,inplace=True)\n",
    "pmwy.dropna(axis='columns', how='all', inplace=True)\n",
    "#\n",
    "pmwy.to_csv(f\"D:\\\\Cows\\\\data backup\\\\milk backup\\\\rawmilk\\\\PM_wy\\\\PM_wy_{tdy}.csv\")\n",
    "pmwy.to_csv(f\"E:\\\\Cows\\\\data backup\\\\milk backup\\\\rawmilk\\\\PM_wy\\\\PM_wy_{tdy}.csv\")\n",
    "# pmwy.to_csv('F:\\\\COWS\\\\data\\\\milk_data\\\\raw\\\\csv\\\\PM_wy.csv',mode='w',index=True, header=True)"
   ]
  }
 ],
 "metadata": {
  "jupytext": {
   "cell_metadata_filter": "-all",
   "main_language": "python",
   "notebook_metadata_filter": "-all"
  },
  "kernelspec": {
   "display_name": "Python 3",
   "language": "python",
   "name": "python3"
  },
  "language_info": {
   "codemirror_mode": {
    "name": "ipython",
    "version": 3
   },
   "file_extension": ".py",
   "mimetype": "text/x-python",
   "name": "python",
   "nbconvert_exporter": "python",
   "pygments_lexer": "ipython3",
   "version": "3.11.4"
  }
 },
 "nbformat": 4,
 "nbformat_minor": 5
}
